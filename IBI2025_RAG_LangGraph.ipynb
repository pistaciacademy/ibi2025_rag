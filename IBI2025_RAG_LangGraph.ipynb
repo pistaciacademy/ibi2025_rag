{
  "cells": [
    {
      "cell_type": "markdown",
      "metadata": {
        "id": "A_fZFcme18vK"
      },
      "source": [
        "# Amélioration des résultats avec LangGraph\n",
        "\n",
        "Ce notebook présente une amélioration du système RAG développé précédemment. Construit à l'aide de LangGraph, ce système est conçu pour répondre aux questions en utilisant des documents sources et intègre des étapes pour améliorer la robustesse, comme la réécriture de requête et la vérification de la pertinence des sources."
      ]
    },
    {
      "cell_type": "markdown",
      "metadata": {
        "id": "L1KvMtf54l0d"
      },
      "source": [
        "## Installation des packages nécessaires"
      ]
    },
    {
      "cell_type": "code",
      "execution_count": null,
      "metadata": {
        "id": "2evPp14fy258"
      },
      "outputs": [],
      "source": [
        "!pip install -U -q langchain-community\n",
        "!pip install -q langchain-google-genai\n",
        "!pip install -q chromadb\n",
        "!pip install -q pypdf\n",
        "!pip install -q langgraph"
      ]
    },
    {
      "cell_type": "markdown",
      "metadata": {
        "id": "LWB6R5_yZk8x"
      },
      "source": [
        "##Import des packages nécessaires"
      ]
    },
    {
      "cell_type": "code",
      "execution_count": null,
      "metadata": {
        "colab": {
          "base_uri": "https://localhost:8080/"
        },
        "id": "u5FYP6cYZkD4",
        "outputId": "b5a5db5a-e68a-4c96-9093-6ebb46aef944"
      },
      "outputs": [
        {
          "name": "stderr",
          "output_type": "stream",
          "text": [
            "WARNING:langchain_community.utils.user_agent:USER_AGENT environment variable not set, consider setting it to identify your requests.\n",
            "/usr/local/lib/python3.11/dist-packages/IPython/core/interactiveshell.py:3553: LangChainDeprecationWarning: As of langchain-core 0.3.0, LangChain uses pydantic v2 internally. The langchain_core.pydantic_v1 module was a compatibility shim for pydantic v1, and should no longer be used. Please update the code to import from Pydantic directly.\n",
            "\n",
            "For example, replace imports like: `from langchain_core.pydantic_v1 import BaseModel`\n",
            "with: `from pydantic import BaseModel`\n",
            "or the v1 compatibility namespace if you are working in a code base that has not been fully upgraded to pydantic 2 yet. \tfrom pydantic.v1 import BaseModel\n",
            "\n",
            "  exec(code_obj, self.user_global_ns, self.user_ns)\n"
          ]
        }
      ],
      "source": [
        "from langchain_google_genai import GoogleGenerativeAIEmbeddings\n",
        "import os\n",
        "from langchain.text_splitter import RecursiveCharacterTextSplitter\n",
        "import getpass\n",
        "from langchain import PromptTemplate\n",
        "from langchain import hub\n",
        "from langchain.docstore.document import Document\n",
        "from langchain.document_loaders import WebBaseLoader\n",
        "from langchain.schema import StrOutputParser\n",
        "from langchain.schema.prompt_template import format_document\n",
        "from langchain.schema.runnable import RunnablePassthrough\n",
        "from langchain.vectorstores import Chroma\n",
        "from langchain_google_genai import ChatGoogleGenerativeAI\n",
        "from langchain_community.document_loaders import PyPDFLoader\n",
        "from langchain_core.prompts import ChatPromptTemplate\n",
        "from langchain_core.pydantic_v1 import BaseModel, Field\n",
        "from typing import List\n",
        "from typing_extensions import TypedDict\n",
        "from langgraph.graph import END, StateGraph"
      ]
    },
    {
      "cell_type": "markdown",
      "metadata": {
        "id": "-6AhbWD8Z_DZ"
      },
      "source": [
        "##Définition du modèle LLM et du modèle embedding"
      ]
    },
    {
      "cell_type": "code",
      "execution_count": null,
      "metadata": {
        "id": "SBWrFvfUaITk"
      },
      "outputs": [],
      "source": [
        "os.environ['GOOGLE_API_KEY'] = \"XXXXXXXXXXXX\" # Ici remplacez par votre API Key !!!\n",
        "gemini_embeddings = GoogleGenerativeAIEmbeddings(model=\"models/embedding-001\")\n",
        "llm = ChatGoogleGenerativeAI(model=\"gemini-1.5-flash\", temperature=0.7, top_p=0.85)"
      ]
    },
    {
      "cell_type": "markdown",
      "metadata": {
        "id": "kyk-EzspanPu"
      },
      "source": [
        "##Chargement des documents sources"
      ]
    },
    {
      "cell_type": "code",
      "execution_count": null,
      "metadata": {
        "id": "2jYK4kRsak9s"
      },
      "outputs": [],
      "source": [
        "def load_file(file_path):\n",
        "    loader = PyPDFLoader(file_path)\n",
        "    pages = loader.load()\n",
        "    return pages\n",
        "\n",
        "def generate_vectorstore(file_path):\n",
        "    pages = load_file(file_path)\n",
        "\n",
        "    text_splitter = RecursiveCharacterTextSplitter(\n",
        "        chunk_size=1000,\n",
        "        chunk_overlap=200\n",
        "    )\n",
        "\n",
        "    chunked_documents = text_splitter.split_documents(pages)\n",
        "\n",
        "    print(f\"Chargé {len(pages)} pages et créé {len(chunked_documents)} chunks.\")\n",
        "\n",
        "    vectorstore = Chroma.from_documents(\n",
        "                        documents=chunked_documents,\n",
        "                        embedding=gemini_embeddings,\n",
        "                        persist_directory=\"./chroma_db\"\n",
        "                    )\n",
        "\n",
        "    print(f\"Base de données vectorielle créée/mise à jour dans ./chroma_db avec {len(chunked_documents)} chunks.\")\n"
      ]
    },
    {
      "cell_type": "code",
      "execution_count": null,
      "metadata": {
        "colab": {
          "base_uri": "https://localhost:8080/"
        },
        "id": "5VVLLdFrds6C",
        "outputId": "89258107-80fc-458a-aa5e-201d108f3cf1"
      },
      "outputs": [
        {
          "name": "stdout",
          "output_type": "stream",
          "text": [
            "Chargé 599 pages et créé 992 chunks.\n",
            "Base de données vectorielle créée/mise à jour dans ./chroma_db avec 992 chunks.\n"
          ]
        }
      ],
      "source": [
        "generate_vectorstore(r\"ici il faut remplacer par le path de votre fichier .pdf\")"
      ]
    },
    {
      "cell_type": "markdown",
      "metadata": {
        "id": "N-aVZNQnduRm"
      },
      "source": [
        "##Retrieve :\n",
        "Cette étape permet de récupérer les documents pertinents à partir de la base de données vectorielle en utilisant la question actuelle."
      ]
    },
    {
      "cell_type": "code",
      "execution_count": null,
      "metadata": {
        "id": "WXmwftYOeZWW"
      },
      "outputs": [],
      "source": [
        "def get_retriver(state):\n",
        "\n",
        "    print(\"---PHASE DE RECHERCHE DANS LA BD---\")\n",
        "    question = state[\"question\"]\n",
        "\n",
        "    # Retrieval\n",
        "    vectorstore_disk = Chroma(\n",
        "                         persist_directory=\"./chroma_db\",\n",
        "                         embedding_function=gemini_embeddings\n",
        "                       )\n",
        "    retriever = vectorstore_disk.as_retriever(search_kwargs={\"k\": 3})\n",
        "    documents = retriever.get_relevant_documents(question)\n",
        "\n",
        "    return {\"documents\": documents, \"question\": question}"
      ]
    },
    {
      "cell_type": "markdown",
      "metadata": {
        "id": "wTpAUYqrUhkj"
      },
      "source": [
        "##Grade Documents :\n",
        "Évalue la pertinence des documents récupérés par rapport à la question."
      ]
    },
    {
      "cell_type": "code",
      "execution_count": null,
      "metadata": {
        "id": "gu9veJ-MUiNg"
      },
      "outputs": [],
      "source": [
        "class GradeDocuments(BaseModel):\n",
        "\n",
        "    binary_score: str = Field(\n",
        "        description=\"Documents are relevant to the question, 'yes' or 'no'\"\n",
        "    )\n",
        "\n",
        "def get_doc_grader():\n",
        "\n",
        "    str_grade_prompt = \"\"\"You are an expert grader assessing relevance of a retrieved document to a user question.\n",
        "                Follow these instructions for grading:\n",
        "                  - If the document contains keyword(s) or semantic meaning related to the question, grade it as relevant.\n",
        "                  - Your grade should be either 'yes' or 'no' to indicate whether the document is relevant to the question or not.\n",
        "             \"\"\"\n",
        "    grade_prompt = ChatPromptTemplate.from_messages(\n",
        "        [\n",
        "            (\"system\", str_grade_prompt),\n",
        "            (\"human\", \"\"\"Retrieved document:\n",
        "                        {document}\n",
        "\n",
        "                        User question:\n",
        "                        {question}\n",
        "                      \"\"\"),\n",
        "        ]\n",
        "    )\n",
        "    structured_llm_grader = llm.with_structured_output(GradeDocuments)\n",
        "    doc_grader = (grade_prompt\n",
        "                  |\n",
        "              structured_llm_grader)\n",
        "\n",
        "    return doc_grader"
      ]
    },
    {
      "cell_type": "markdown",
      "metadata": {
        "id": "hr1aPB9IYD3e"
      },
      "source": [
        "### Test du doc_grader"
      ]
    },
    {
      "cell_type": "code",
      "execution_count": null,
      "metadata": {
        "colab": {
          "base_uri": "https://localhost:8080/"
        },
        "id": "S8dejUhmXq4X",
        "outputId": "840603c7-1498-498a-944b-35accac74e51"
      },
      "outputs": [
        {
          "name": "stdout",
          "output_type": "stream",
          "text": [
            "---PHASE DE RECHERCHE DANS LA BD---\n"
          ]
        },
        {
          "name": "stderr",
          "output_type": "stream",
          "text": [
            "<ipython-input-6-c9651c9e33ec>:7: LangChainDeprecationWarning: The class `Chroma` was deprecated in LangChain 0.2.9 and will be removed in 1.0. An updated version of the class exists in the :class:`~langchain-chroma package and should be used instead. To use it run `pip install -U :class:`~langchain-chroma` and import as `from :class:`~langchain_chroma import Chroma``.\n",
            "  vectorstore_disk = Chroma(\n",
            "<ipython-input-6-c9651c9e33ec>:12: LangChainDeprecationWarning: The method `BaseRetriever.get_relevant_documents` was deprecated in langchain-core 0.1.46 and will be removed in 1.0. Use :meth:`~invoke` instead.\n",
            "  documents = retriever.get_relevant_documents(question)\n"
          ]
        },
        {
          "name": "stdout",
          "output_type": "stream",
          "text": [
            "GRADE: binary_score='yes'\n",
            "\n",
            "GRADE: binary_score='yes'\n",
            "\n",
            "GRADE: binary_score='yes'\n",
            "\n",
            "GRADE: binary_score='yes'\n",
            "\n",
            "GRADE: binary_score='yes'\n",
            "\n"
          ]
        }
      ],
      "source": [
        "query = \"what are the challenges of generative ai\"\n",
        "retrievement = get_retriver({\"question\": query})\n",
        "top3_docs = retrievement['documents']\n",
        "for doc in top3_docs:\n",
        "    #print(doc.page_content)\n",
        "    print('GRADE:', get_doc_grader().invoke({\"question\": query, \"document\": doc.page_content}))\n",
        "    print()"
      ]
    },
    {
      "cell_type": "markdown",
      "metadata": {
        "id": "5gPtfb9hwdsY"
      },
      "source": [
        "### Règle d'évaluation des sources :\n",
        "Si au moins une source est jugée pertinente, nous considérons que la phase de recherche a été réussie et nous passons à l'étape suivante."
      ]
    },
    {
      "cell_type": "code",
      "execution_count": null,
      "metadata": {
        "id": "Pp9_5BY7wMD3"
      },
      "outputs": [],
      "source": [
        "def grade_documents(state):\n",
        "\n",
        "    print(\"---EVALUATION DE LA PERTINENCE DES SOURCES---\")\n",
        "    question = state[\"question\"]\n",
        "    documents = state[\"documents\"]\n",
        "\n",
        "    # Score each doc\n",
        "    filtered_docs = []\n",
        "    new_retrievement_needed = \"No\"\n",
        "    if documents:\n",
        "        for d in documents:\n",
        "            score = get_doc_grader().invoke(\n",
        "                {\"question\": question, \"document\": d.page_content}\n",
        "            )\n",
        "            grade = score.binary_score\n",
        "            if grade == \"yes\":\n",
        "                print(\"---EVALUATION: SOURCE PERTINENTE---\")\n",
        "                filtered_docs.append(d)\n",
        "\n",
        "    if len(filtered_docs)==0:\n",
        "        print(\"---PAS DE SOURCES TROUVEES---\")\n",
        "        new_retrievement_needed = \"Yes\"\n",
        "\n",
        "    return {\"documents\": filtered_docs, \"question\": question, \"new_retrievement_needed\": new_retrievement_needed}"
      ]
    },
    {
      "cell_type": "markdown",
      "metadata": {
        "id": "lm2fHlJ4YbtQ"
      },
      "source": [
        "##Reformulation de la question :\n",
        "\n",
        "Reformule la question originale pour tenter d'améliorer la récupération lors d'une nouvelle tentative."
      ]
    },
    {
      "cell_type": "code",
      "execution_count": null,
      "metadata": {
        "id": "A9JG5XhNYcW0"
      },
      "outputs": [],
      "source": [
        "def get_rewritten_question(state):\n",
        "\n",
        "    question = state[\"question\"]\n",
        "    str_rewrite_prompt = \"\"\"Act as a question re-writer and perform the following task:\n",
        "                 - Convert the following input question to a better version that is optimized for chrome retriever.\n",
        "                 - When re-writing, look at the input question and try to reason about the underlying semantic intent / meaning.\n",
        "                 - Propose only one version of the rewritten question.\n",
        "             \"\"\"\n",
        "    re_write_prompt = ChatPromptTemplate.from_messages(\n",
        "        [\n",
        "            (\"system\", str_rewrite_prompt),\n",
        "            (\"human\", \"\"\"Here is the initial question:\n",
        "                        {question}\n",
        "\n",
        "                        Formulate an improved question.\n",
        "                      \"\"\",\n",
        "            ),\n",
        "        ]\n",
        "    )\n",
        "\n",
        "    question_rewriter = (re_write_prompt | llm | StrOutputParser())\n",
        "\n",
        "    better_question = question_rewriter.invoke(question)\n",
        "\n",
        "    return {\"question\": better_question, \"rewriten_question\": 1}"
      ]
    },
    {
      "cell_type": "markdown",
      "metadata": {
        "id": "TrkjVvdkjjZG"
      },
      "source": [
        "##Test de la reformulation"
      ]
    },
    {
      "cell_type": "code",
      "execution_count": null,
      "metadata": {
        "colab": {
          "base_uri": "https://localhost:8080/"
        },
        "id": "cME4KfhKgoz-",
        "outputId": "aa91e822-16eb-4b9a-cc54-213f901d6cac"
      },
      "outputs": [
        {
          "data": {
            "text/plain": [
              "{'question': 'What is GenAI?', 'rewriten_question': 1}"
            ]
          },
          "execution_count": 11,
          "metadata": {},
          "output_type": "execute_result"
        }
      ],
      "source": [
        "query = \"what about genai\"\n",
        "rewrite_result = get_rewritten_question({\"question\": query})\n",
        "rewrite_result"
      ]
    },
    {
      "cell_type": "markdown",
      "metadata": {
        "id": "XvQ2GTQtfEd8"
      },
      "source": [
        "##Génération de la réponse :\n",
        "\n",
        "Génère une réponse à la question en utilisant les documents pertinents comme contexte."
      ]
    },
    {
      "cell_type": "code",
      "execution_count": null,
      "metadata": {
        "id": "yUVjEozhXofp"
      },
      "outputs": [],
      "source": [
        "def get_answer_prompt():\n",
        "    llm_prompt_template = \"\"\"You are an assistant for question-answering tasks.\n",
        "    Use the following context to answer the question.\n",
        "    If you don't know the answer, just say that you don't know.\n",
        "    Use five sentences maximum and keep the answer concise.\\n\n",
        "    Question: {question} \\nContext: {context} \\nAnswer:\"\"\"\n",
        "\n",
        "    return PromptTemplate.from_template(llm_prompt_template)\n",
        "\n",
        "def format_docs(docs):\n",
        "    return \"\\n\\n\".join(doc.page_content for doc in docs)\n",
        "\n",
        "def get_llm_response(state):\n",
        "\n",
        "    question = state[\"question\"]\n",
        "    llm_prompt = get_answer_prompt()\n",
        "    rag_chain = (\n",
        "        {\n",
        "            \"context\": lambda state: format_docs(state[\"documents\"]),\n",
        "            \"question\": lambda state: state[\"question\"],\n",
        "        }\n",
        "        | llm_prompt\n",
        "        | llm\n",
        "        | StrOutputParser()\n",
        "    )\n",
        "\n",
        "    return {\"generation\": rag_chain.invoke(state)}\n"
      ]
    },
    {
      "cell_type": "markdown",
      "metadata": {
        "id": "nGlzeMhxSTf1"
      },
      "source": [
        "##No Document Found Node :\n",
        "Gère le cas où aucun document pertinent n'a pu être trouvé après la réécriture de la requête, en définissant un message final."
      ]
    },
    {
      "cell_type": "code",
      "execution_count": null,
      "metadata": {
        "id": "cBIRIly-SSO6"
      },
      "outputs": [],
      "source": [
        "def no_relevent_docs(state):\n",
        "\n",
        "    return {\"generation\": \"No relevent docs found !\"}"
      ]
    },
    {
      "cell_type": "markdown",
      "metadata": {
        "id": "-9zcEgiu8HRY"
      },
      "source": [
        "### Décision\n",
        "\n",
        "Décide si les documents sont suffisamment pertinents pour générer une réponse. Si non et que la requête n'a pas encore été réécrite, passe à la reformulation de la question. Si non et que la requête a déjà été réécrite, passe à no_document_found. Si oui, passe à generate_answer."
      ]
    },
    {
      "cell_type": "code",
      "execution_count": null,
      "metadata": {
        "id": "Zi3GzDLRv3Nf"
      },
      "outputs": [],
      "source": [
        "def decide_to_generate(state):\n",
        "\n",
        "    print(\"---DECISION SUR LA PROCHAINE ETAPE---\")\n",
        "    new_retrievement_needed = state[\"new_retrievement_needed\"]\n",
        "    rewriten_question = state[\"rewriten_question\"]\n",
        "\n",
        "    if rewriten_question==1 and new_retrievement_needed == \"Yes\":\n",
        "      print(\"---DECISION: PAS DE SOURCE PERTINENTE---\")\n",
        "      return \"no_relevent_docs\"\n",
        "    elif new_retrievement_needed == \"Yes\":\n",
        "        # All documents have been filtered check_relevance\n",
        "        # We will re-generate a new query\n",
        "        print(\"---DECISION: REFORMULATION DE LA DECISION---\")\n",
        "        return \"rewrite_query\"\n",
        "    else:\n",
        "        # We have relevant documents, so generate answer\n",
        "        print(\"---DECISION: GENERATION DE LA REPONSE---\")\n",
        "        return \"generate_answer\""
      ]
    },
    {
      "cell_type": "markdown",
      "metadata": {
        "id": "4IP79QrYtxNj"
      },
      "source": [
        "##Définition du graphe"
      ]
    },
    {
      "cell_type": "code",
      "execution_count": null,
      "metadata": {
        "id": "F24b6qm_yhnE"
      },
      "outputs": [],
      "source": [
        "class GraphState(TypedDict):\n",
        "\n",
        "    question: str\n",
        "    generation: str\n",
        "    new_retrievement_needed: str\n",
        "    rewriten_question: int\n",
        "    documents: List[str]\n",
        "\n",
        "\n",
        "rag_graph= StateGraph(GraphState)\n",
        "\n",
        "rag_graph.add_node(\"retrieve\", get_retriver)  # Node de rechcerche\n",
        "rag_graph.add_node(\"grade_documents\", grade_documents)  # Node d'évaluation de la pertinence des ressources\n",
        "rag_graph.add_node(\"rewrite_query\", get_rewritten_question)  # Node de re-ecriture de la question\n",
        "rag_graph.add_node(\"generate_answer\", get_llm_response)  # Node génération de la question\n",
        "rag_graph.add_node(\"no_relevent_docs\", no_relevent_docs)  # Node à déclencher dans le cas ou aucune source pertinente n'est trouvée\n",
        "\n",
        "# Construction du graphe\n",
        "rag_graph.set_entry_point(\"retrieve\")\n",
        "rag_graph.add_edge(\"retrieve\", \"grade_documents\")\n",
        "rag_graph.add_conditional_edges(\n",
        "    \"grade_documents\",\n",
        "    decide_to_generate,\n",
        "    {\"rewrite_query\": \"rewrite_query\", \"generate_answer\": \"generate_answer\", \"no_relevent_docs\": \"no_relevent_docs\"},\n",
        ")\n",
        "rag_graph.add_edge(\"rewrite_query\", \"retrieve\")\n",
        "rag_graph.add_edge(\"generate_answer\", END)\n",
        "rag_graph.add_edge(\"no_relevent_docs\", END)\n",
        "\n",
        "# Compilation\n",
        "rag_graph = rag_graph.compile()"
      ]
    },
    {
      "cell_type": "markdown",
      "metadata": {
        "id": "97QIHWNQzrzD"
      },
      "source": [
        "##Affichage du graphe :\n",
        "Cette partie est facultative et consiste à afficher le graphique pour une visualisation graphique des différentes étapes du processus."
      ]
    },
    {
      "cell_type": "code",
      "execution_count": null,
      "metadata": {
        "colab": {
          "base_uri": "https://localhost:8080/",
          "height": 449
        },
        "id": "X3D6GCcN0ElZ",
        "outputId": "4f28765a-9c63-4f0e-ca84-f19977518d90"
      },
      "outputs": [
        {
          "data": {
            "image/png": "[encoded data removed]",
            "text/plain": [
              "<IPython.core.display.Image object>"
            ]
          },
          "metadata": {},
          "output_type": "display_data"
        }
      ],
      "source": [
        "from IPython.display import Image, display, Markdown\n",
        "\n",
        "display(Image(rag_graph.get_graph().draw_mermaid_png()))"
      ]
    },
    {
      "cell_type": "markdown",
      "metadata": {
        "id": "pXW3yX7s9MMY"
      },
      "source": [
        "## Test du processus"
      ]
    },
    {
      "cell_type": "code",
      "execution_count": null,
      "metadata": {
        "colab": {
          "base_uri": "https://localhost:8080/"
        },
        "id": "tgny4kCM0OrS",
        "outputId": "f06cf887-96a7-4fb5-fbd7-4ec6074a87b1"
      },
      "outputs": [
        {
          "name": "stdout",
          "output_type": "stream",
          "text": [
            "---PHASE DE RECHERCHE DANS LA BD---\n",
            "---EVALUATION DE LA PERTINENCE DES SOURCES---\n",
            "---PAS DE SOURCES TROUVEES---\n",
            "---DECISION SUR LA PROCHAINE ETAPE---\n",
            "---DECISION: REFORMULATION DE LA DECISION---\n",
            "---PHASE DE RECHERCHE DANS LA BD---\n",
            "---EVALUATION DE LA PERTINENCE DES SOURCES---\n",
            "---PAS DE SOURCES TROUVEES---\n",
            "---DECISION SUR LA PROCHAINE ETAPE---\n",
            "---DECISION: PAS DE SOURCE PERTINENTE---\n"
          ]
        }
      ],
      "source": [
        "query = \"the capital of tunisia\" #\"Define generative ai\"\n",
        "response = rag_graph.invoke({\"question\": query, \"rewriten_question\": 0})"
      ]
    },
    {
      "cell_type": "markdown",
      "metadata": {
        "id": "jbTDjfm4_yze"
      },
      "source": [
        "##Afficher les résultats"
      ]
    },
    {
      "cell_type": "markdown",
      "metadata": {
        "id": "rr6dcRFo_7qQ"
      },
      "source": [
        "###Affichage de la réponse générer par le système RAG"
      ]
    },
    {
      "cell_type": "code",
      "execution_count": null,
      "metadata": {
        "colab": {
          "base_uri": "https://localhost:8080/",
          "height": 35
        },
        "id": "XZFotEvNvl84",
        "outputId": "2faf66b2-3d00-439f-c222-2372c39b2872"
      },
      "outputs": [
        {
          "data": {
            "application/vnd.google.colaboratory.intrinsic+json": {
              "type": "string"
            },
            "text/plain": [
              "'No relevent docs found !'"
            ]
          },
          "execution_count": 27,
          "metadata": {},
          "output_type": "execute_result"
        }
      ],
      "source": [
        "response['generation']"
      ]
    },
    {
      "cell_type": "markdown",
      "metadata": {
        "id": "5f7VKUOVAHPJ"
      },
      "source": [
        "### Affichage de tout l'objet 'response'"
      ]
    },
    {
      "cell_type": "code",
      "execution_count": null,
      "metadata": {
        "colab": {
          "base_uri": "https://localhost:8080/"
        },
        "id": "kK43TCqLAQN5",
        "outputId": "036be7a4-12f5-4d18-bca2-40250a984e4b"
      },
      "outputs": [
        {
          "data": {
            "text/plain": [
              "{'question': 'What is the capital city of Tunisia?',\n",
              " 'generation': 'No relevent docs found !',\n",
              " 'new_retrievement_needed': 'Yes',\n",
              " 'rewriten_question': 1,\n",
              " 'documents': []}"
            ]
          },
          "execution_count": 28,
          "metadata": {},
          "output_type": "execute_result"
        }
      ],
      "source": [
        "response"
      ]
    }
  ],
  "metadata": {
    "colab": {
      "provenance": []
    },
    "kernelspec": {
      "display_name": "Python 3",
      "name": "python3"
    },
    "language_info": {
      "name": "python"
    }
  },
  "nbformat": 4,
  "nbformat_minor": 0
}
